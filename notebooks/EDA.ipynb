{
 "cells": [
  {
   "metadata": {},
   "cell_type": "markdown",
   "source": "# EDA",
   "id": "adf6c84d30189dcd"
  },
  {
   "metadata": {
    "ExecuteTime": {
     "end_time": "2025-05-26T06:49:05.470483Z",
     "start_time": "2025-05-26T06:49:04.698240Z"
    }
   },
   "cell_type": "code",
   "source": [
    "import os\n",
    "import pandas as pd\n",
    "import numpy as np\n",
    "import librosa\n",
    "import librosa.display\n",
    "import matplotlib.pyplot as plt"
   ],
   "id": "ad57e0af9b5e90b5",
   "outputs": [],
   "execution_count": 1
  },
  {
   "metadata": {
    "ExecuteTime": {
     "end_time": "2025-05-26T06:49:38.300717Z",
     "start_time": "2025-05-26T06:49:38.298492Z"
    }
   },
   "cell_type": "code",
   "source": [
    "AUDIO_DIR = \"../input/train\"\n",
    "CSV_PATH = \"../input/train.csv\"\n",
    "SR = 16000"
   ],
   "id": "f9b807e5a3880575",
   "outputs": [],
   "execution_count": 4
  },
  {
   "metadata": {
    "ExecuteTime": {
     "end_time": "2025-05-26T06:49:38.657631Z",
     "start_time": "2025-05-26T06:49:38.649530Z"
    }
   },
   "cell_type": "code",
   "source": [
    "df = pd.read_csv(CSV_PATH)\n",
    "df[\"Target\"] = df[\"Target\"].astype(str)"
   ],
   "id": "4764832242c20679",
   "outputs": [],
   "execution_count": 5
  },
  {
   "metadata": {
    "ExecuteTime": {
     "end_time": "2025-05-26T06:49:46.259713Z",
     "start_time": "2025-05-26T06:49:46.256969Z"
    }
   },
   "cell_type": "code",
   "source": [
    "def reconstruct_filename(name):\n",
    "    return name.replace(\"_E_\", \"_\").replace(\"_I_\", \"_\") + \".wav\""
   ],
   "id": "49226a99f6882fe0",
   "outputs": [],
   "execution_count": 6
  },
  {
   "metadata": {
    "ExecuteTime": {
     "end_time": "2025-05-26T06:49:50.082802Z",
     "start_time": "2025-05-26T06:49:50.078959Z"
    }
   },
   "cell_type": "code",
   "source": "df[\"filename\"] = df[\"ID\"].apply(reconstruct_filename)",
   "id": "14ba76683684fb23",
   "outputs": [],
   "execution_count": 7
  },
  {
   "metadata": {
    "ExecuteTime": {
     "end_time": "2025-05-26T06:49:58.057476Z",
     "start_time": "2025-05-26T06:49:58.051989Z"
    }
   },
   "cell_type": "code",
   "source": [
    "print(\"📊 Dataset shape:\", df.shape)\n",
    "print(\"🔁 Label counts:\\n\", df[\"Target\"].value_counts())"
   ],
   "id": "a9765c088e378333",
   "outputs": [
    {
     "name": "stdout",
     "output_type": "stream",
     "text": [
      "📊 Dataset shape: (4000, 3)\n",
      "🔁 Label counts:\n",
      " Target\n",
      "I    2000\n",
      "E    2000\n",
      "Name: count, dtype: int64\n"
     ]
    }
   ],
   "execution_count": 8
  },
  {
   "metadata": {
    "ExecuteTime": {
     "end_time": "2025-05-26T06:50:17.111647Z",
     "start_time": "2025-05-26T06:50:14.832020Z"
    }
   },
   "cell_type": "code",
   "source": [
    "durations = []\n",
    "rms_levels = []\n",
    "\n",
    "for fname in df[\"filename\"]:\n",
    "    path = os.path.join(AUDIO_DIR, fname)\n",
    "    y, sr = librosa.load(path, sr=SR)\n",
    "    durations.append(len(y) / sr)\n",
    "    rms_levels.append(np.sqrt(np.mean(y**2)))"
   ],
   "id": "6e5b8a320c32562f",
   "outputs": [],
   "execution_count": 9
  },
  {
   "metadata": {
    "ExecuteTime": {
     "end_time": "2025-05-26T06:50:23.055924Z",
     "start_time": "2025-05-26T06:50:23.047734Z"
    }
   },
   "cell_type": "code",
   "source": [
    "df[\"duration\"] = durations\n",
    "df[\"rms\"] = rms_levels\n",
    "\n",
    "print(\"\\n🕒 Duration stats (seconds):\")\n",
    "print(df[\"duration\"].describe())\n",
    "\n",
    "print(\"\\n🔊 RMS Loudness stats:\")\n",
    "print(df[\"rms\"].describe())"
   ],
   "id": "a649ac5ede3b8dcb",
   "outputs": [
    {
     "name": "stdout",
     "output_type": "stream",
     "text": [
      "\n",
      "🕒 Duration stats (seconds):\n",
      "count    4000.0\n",
      "mean        1.0\n",
      "std         0.0\n",
      "min         1.0\n",
      "25%         1.0\n",
      "50%         1.0\n",
      "75%         1.0\n",
      "max         1.0\n",
      "Name: duration, dtype: float64\n",
      "\n",
      "🔊 RMS Loudness stats:\n",
      "count    4000.000000\n",
      "mean        0.032345\n",
      "std         0.038738\n",
      "min         0.001750\n",
      "25%         0.011243\n",
      "50%         0.019295\n",
      "75%         0.036172\n",
      "max         0.434734\n",
      "Name: rms, dtype: float64\n"
     ]
    }
   ],
   "execution_count": 10
  },
  {
   "metadata": {},
   "cell_type": "markdown",
   "source": [
    "=> All files: **EXACTLY 1.0 SEC LONG**\n",
    "\n",
    "→ Skip dynamic padding/clipping logic in dataset.py..."
   ],
   "id": "aca9a07e43170c5b"
  },
  {
   "metadata": {},
   "cell_type": "markdown",
   "source": [
    "- RMS spans 0.0017 to 0.4347, with a mean of approx 0.03\n",
    "\n",
    "- 25% of samples are below 0.011\n",
    "\n",
    "=> **Some recordings are very quiet**, possibly near-silent!!\n",
    "\n",
    "-> We should: Normalize loudness, Add volume-based augmentations..."
   ],
   "id": "dea8c0226eb4dd6e"
  },
  {
   "metadata": {},
   "cell_type": "code",
   "outputs": [],
   "execution_count": null,
   "source": "",
   "id": "e389c8d84da09c14"
  }
 ],
 "metadata": {
  "kernelspec": {
   "display_name": "Python 3",
   "language": "python",
   "name": "python3"
  },
  "language_info": {
   "codemirror_mode": {
    "name": "ipython",
    "version": 2
   },
   "file_extension": ".py",
   "mimetype": "text/x-python",
   "name": "python",
   "nbconvert_exporter": "python",
   "pygments_lexer": "ipython2",
   "version": "2.7.6"
  }
 },
 "nbformat": 4,
 "nbformat_minor": 5
}
